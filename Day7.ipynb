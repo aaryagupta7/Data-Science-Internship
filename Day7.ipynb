{
 "cells": [
  {
   "cell_type": "code",
   "execution_count": 126,
   "metadata": {},
   "outputs": [
    {
     "name": "stdout",
     "output_type": "stream",
     "text": [
      "Mean: 20.0\n",
      "Median: 20.0\n"
     ]
    }
   ],
   "source": [
    "import numpy as np\n",
    "import scipy.stats as stats\n",
    "\n",
    "data = [10,15,20,25,30]\n",
    "\n",
    "mean_value = np.mean(data)\n",
    "print(\"Mean:\",mean_value)\n",
    "\n",
    "median_value = np.median(data)\n",
    "print(\"Median:\",median_value)"
   ]
  },
  {
   "cell_type": "markdown",
   "metadata": {},
   "source": []
  },
  {
   "cell_type": "code",
   "execution_count": 127,
   "metadata": {},
   "outputs": [],
   "source": [
    "sample_data =  [23,27,25,24,22,26]\n",
    "\n"
   ]
  },
  {
   "cell_type": "code",
   "execution_count": 128,
   "metadata": {},
   "outputs": [],
   "source": [
    "population_mean = 22"
   ]
  },
  {
   "cell_type": "code",
   "execution_count": 129,
   "metadata": {},
   "outputs": [
    {
     "name": "stdout",
     "output_type": "stream",
     "text": [
      "T-statistic: 3.273268353539886\n",
      "p-value: 0.022118466722329432\n"
     ]
    }
   ],
   "source": [
    "t_stat, p_value = stats.ttest_1samp(sample_data,population_mean)\n",
    "print(\"T-statistic:\",t_stat)\n",
    "print(\"p-value:\",p_value)"
   ]
  },
  {
   "cell_type": "code",
   "execution_count": 130,
   "metadata": {},
   "outputs": [
    {
     "name": "stdout",
     "output_type": "stream",
     "text": [
      "The sample mean is statistically different from population mean.\n"
     ]
    }
   ],
   "source": [
    "# Check if the result is statistically significant at 95% coincidence level\n",
    "if p_value < 0.05:\n",
    "    print(\"The sample mean is statistically different from population mean.\")\n",
    "else:\n",
    "    print(\"There is no significant difference between sample mean and population mean.\")    "
   ]
  },
  {
   "cell_type": "code",
   "execution_count": 131,
   "metadata": {},
   "outputs": [],
   "source": [
    "import random\n",
    "population_data = list(range(1,101))\n"
   ]
  },
  {
   "cell_type": "code",
   "execution_count": 132,
   "metadata": {},
   "outputs": [
    {
     "name": "stdout",
     "output_type": "stream",
     "text": [
      "Random Sample: [80, 97, 51, 12, 40, 92, 2, 35, 74, 73]\n"
     ]
    }
   ],
   "source": [
    "#Randomly select 10 samples from the population\n",
    "sample_size = 10\n",
    "random_sample = random.sample(population_data,sample_size)\n",
    "print(\"Random Sample:\",random_sample)"
   ]
  },
  {
   "cell_type": "code",
   "execution_count": 133,
   "metadata": {},
   "outputs": [
    {
     "name": "stdout",
     "output_type": "stream",
     "text": [
      "Correlation Coefficient: 0.8340576562282991\n"
     ]
    }
   ],
   "source": [
    "import numpy as np \n",
    "import scipy.stats as stats\n",
    "import matplotlib.pyplot as plt\n",
    "\n",
    "#sample data\n",
    "x = np.array([11,12,13,14,15])\n",
    "y = np.array([12,14,16,18,20])\n",
    "\n",
    "#calculate the correlation coefficient\n",
    "correlation_coef = np.corrcoef(x,y)[0,1]\n",
    "print(\"Correlation Coefficient:\",correlation_coef)"
   ]
  },
  {
   "cell_type": "code",
   "execution_count": 134,
   "metadata": {},
   "outputs": [
    {
     "data": {
      "image/png": "[encoded data removed]",
      "text/plain": [
       "<Figure size 640x480 with 1 Axes>"
      ]
     },
     "metadata": {},
     "output_type": "display_data"
    }
   ],
   "source": [
    "#perform linear regression\n",
    "\n",
    "slope,intercept,r_value,p_value,std_err = stats.linregress(x,y)\n",
    "\n",
    "#predicted values using the regression model\n",
    "\n",
    "predicted_y = slope*x + intercept\n",
    "\n",
    "#plot the data and regression line\n",
    "\n",
    "plt.scatter(x,y,label='Data')\n",
    "plt.plot(x,predicted_y,color='red',label='Regression Line')\n",
    "plt.legend()\n",
    "plt.xlabel('X')\n",
    "plt.ylabel('Y')\n",
    "plt.show()"
   ]
  },
  {
   "cell_type": "code",
   "execution_count": 135,
   "metadata": {},
   "outputs": [
    {
     "name": "stdout",
     "output_type": "stream",
     "text": [
      "   Patient_Id  Age  Blood_Pressure  Cholesterol\n",
      "0           1   35             120          180\n",
      "1           2   45             130          210\n",
      "2           3   34             140          200\n",
      "3           4   47             135          210\n",
      "4           5   55             130          190\n",
      "\n",
      "Summary Statistics:\n",
      "       Patient_Id        Age  Blood_Pressure  Cholesterol\n",
      "count    9.000000   9.000000        9.000000     9.000000\n",
      "mean     5.000000  45.888889      132.777778   199.444444\n",
      "std      2.738613   8.222598        7.120003    10.137938\n",
      "min      1.000000  34.000000      120.000000   180.000000\n",
      "25%      3.000000  42.000000      130.000000   195.000000\n",
      "50%      5.000000  47.000000      135.000000   200.000000\n",
      "75%      7.000000  48.000000      140.000000   210.000000\n",
      "max      9.000000  59.000000      140.000000   210.000000\n"
     ]
    }
   ],
   "source": [
    "import pandas as pd\n",
    "data = pd.read_csv('dataset.csv')\n",
    "print(data.head())\n",
    "summary_stats = data.describe()\n",
    "print(\"\\nSummary Statistics:\")\n",
    "print(summary_stats)"
   ]
  },
  {
   "cell_type": "code",
   "execution_count": 136,
   "metadata": {},
   "outputs": [
    {
     "data": {
      "text/plain": [
       "45.888888888888886"
      ]
     },
     "execution_count": 136,
     "metadata": {},
     "output_type": "execute_result"
    }
   ],
   "source": [
    "mean=data[\"Age\"].mean()\n",
    "mean\n"
   ]
  },
  {
   "cell_type": "code",
   "execution_count": 138,
   "metadata": {},
   "outputs": [
    {
     "name": "stdout",
     "output_type": "stream",
     "text": [
      "\n",
      " Mean Age: 45.888888888888886\n",
      " Median Age: 47.0\n",
      " Standard Deviation of Age: 8.22259758902934\n"
     ]
    }
   ],
   "source": [
    "median_age = data[\"Age\"].median()\n",
    "std_dev_age = data[\"Age\"].std()\n",
    "\n",
    "print(\"\\n Mean Age:\",mean)\n",
    "print(\" Median Age:\",median_age)\n",
    "print(\" Standard Deviation of Age:\",std_dev_age)"
   ]
  },
  {
   "cell_type": "code",
   "execution_count": 139,
   "metadata": {},
   "outputs": [
    {
     "data": {
      "text/plain": [
       "0.12662587156842406"
      ]
     },
     "execution_count": 139,
     "metadata": {},
     "output_type": "execute_result"
    }
   ],
   "source": [
    "#to show correlation\n",
    "Correlation=data[\"Age\"].corr(data[\"Cholesterol\"])\n",
    "Correlation"
   ]
  },
  {
   "cell_type": "code",
   "execution_count": 140,
   "metadata": {},
   "outputs": [
    {
     "name": "stdout",
     "output_type": "stream",
     "text": [
      "   Student_Id Age  Gender  Math_Score  Science_Score  English_Score\n",
      "0         1.0  15    Male          85             92           78.0\n",
      "1         2.0  16  Female          78             88           85.0\n",
      "2         3.0  17    Male          90             82           89.0\n",
      "3         4.0  16  Female          79             85           90.0\n",
      "4         5.0  16    Male          79             80           88.0\n"
     ]
    }
   ],
   "source": [
    "import pandas as pd\n",
    "import numpy as np\n",
    "import scipy.stats as stats\n",
    "\n",
    "data = pd.read_csv(\"student_scores.csv\")\n",
    "\n",
    "print(data.head())"
   ]
  }
 ],
 "metadata": {
  "kernelspec": {
   "display_name": "Python 3",
   "language": "python",
   "name": "python3"
  },
  "language_info": {
   "codemirror_mode": {
    "name": "ipython",
    "version": 3
   },
   "file_extension": ".py",
   "mimetype": "text/x-python",
   "name": "python",
   "nbconvert_exporter": "python",
   "pygments_lexer": "ipython3",
   "version": "3.11.3"
  },
  "orig_nbformat": 4
 },
 "nbformat": 4,
 "nbformat_minor": 2
}
